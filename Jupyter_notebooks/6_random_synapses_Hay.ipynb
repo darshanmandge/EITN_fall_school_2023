{
 "cells": [
  {
   "cell_type": "code",
   "execution_count": 1,
   "id": "0c7fda93",
   "metadata": {},
   "outputs": [],
   "source": [
    "from __future__ import division\n",
    "import numpy as np\n",
    "from neuron import h, gui\n",
    "import matplotlib.pyplot as plt\n",
    "plt.ion();"
   ]
  },
  {
   "cell_type": "markdown",
   "id": "11aeb971",
   "metadata": {},
   "source": [
    "### Instantiate model"
   ]
  },
  {
   "cell_type": "code",
   "execution_count": 2,
   "id": "22d28d41",
   "metadata": {},
   "outputs": [],
   "source": [
    "h.load_file(\"import3d.hoc\")\n",
    "h.nrn_load_dll(\"mods/nrnmech.dll\")  # this needs to be added on Windows\n",
    "# for some weird reason NEURON doesn't care about the OS\n",
    "# and Windows uses the forward slash: '/' as well...\n",
    "h.load_file(\"models/L5PCbiophys3.hoc\")\n",
    "h.load_file(\"models/L5PCtemplate.hoc\")\n",
    "morph_fname = \"morphologies/cell1.asc\"\n",
    "L5PC = h.L5PCtemplate(morph_fname)"
   ]
  },
  {
   "cell_type": "markdown",
   "id": "12bdf565",
   "metadata": {},
   "source": [
    "### Create synapses"
   ]
  },
  {
   "cell_type": "code",
   "execution_count": 3,
   "id": "99bc9409",
   "metadata": {},
   "outputs": [],
   "source": [
    "# constants used for synapse creation and random activation\n",
    "syn_dens = 0.1  # /um  (made up number, which is definitely less than real synspe density)\n",
    "exc_ratio = 0.8\n",
    "t_stop = 2000  # ms\n",
    "exc_freq = 1  # Hz\n",
    "inh_freq = 5  # Hz\n",
    "seed = 12345\n",
    "gsyn_exc = 3  # nS  (made up number, which is definitely more than real synspe strength)\n",
    "gsyn_inh = 5  # nS"
   ]
  },
  {
   "cell_type": "code",
   "execution_count": 4,
   "id": "5e1bd1e6",
   "metadata": {},
   "outputs": [
    {
     "name": "stdout",
     "output_type": "stream",
     "text": [
      "Target number of apical synapses: EXC: 594, INH: 149\n",
      "Target number of basal synapses: EXC :411, INH: 103\n"
     ]
    }
   ],
   "source": [
    "# calculate number of synapses to place (based on assumed synapse density)\n",
    "apical_len = np.sum([x.L for x in L5PC.apical])  # um\n",
    "basal_len = np.sum([x.L for x in L5PC.basal])  # um\n",
    "dend_len = apical_len + basal_len\n",
    "nsyns = int(syn_dens * dend_len)\n",
    "nsyns_exc = int(nsyns * exc_ratio)\n",
    "nsyns_exc_apical = int(nsyns_exc * apical_len / dend_len)\n",
    "nsyns_exc_basal = nsyns_exc - nsyns_exc_apical\n",
    "nsyns_inh = nsyns - nsyns_exc\n",
    "nsyns_inh_apical = int(nsyns_inh * apical_len / dend_len)\n",
    "nsyns_inh_basal = nsyns_inh - nsyns_inh_apical\n",
    "print(\"Target number of apical synapses: EXC: %i, INH: %i\" % (nsyns_exc_apical, nsyns_inh_apical))\n",
    "print(\"Target number of basal synapses: EXC :%i, INH: %i\" % (nsyns_exc_basal, nsyns_inh_basal))\n",
    "# approximate number of synapses per sections\n",
    "apical_exc_nsyns = [int(nsyns_exc_apical * x.L / apical_len) for x in L5PC.apical]\n",
    "basal_exc_nsyns = [int(nsyns_exc_basal * x.L / basal_len) for x in L5PC.basal]\n",
    "apical_inh_nsyns = [int(nsyns_inh_apical * x.L / apical_len) for x in L5PC.apical]\n",
    "basal_inh_nsyns = [int(nsyns_inh_basal * x.L / basal_len) for x in L5PC.basal]"
   ]
  },
  {
   "cell_type": "code",
   "execution_count": 5,
   "id": "9488ebf5",
   "metadata": {},
   "outputs": [],
   "source": [
    "# setup random number generator for synapse location\n",
    "rng_pos = h.Random(seed)\n",
    "rng_pos.uniform(0, 1)\n",
    "# create apical synapses (and connect them to random number generators)\n",
    "apical_exc_syns = []\n",
    "apical_exc_netstims = []\n",
    "apical_exc_netconns = []\n",
    "for sec, apical_exc_nsyn in zip(L5PC.apical, apical_exc_nsyns):\n",
    "    for syn in range(apical_exc_nsyn):\n",
    "        syn_loc = rng_pos.repick()\n",
    "        apical_exc_syns.append(h.ProbAMPANMDA_EMS(sec(syn_loc)))\n",
    "        apical_exc_netstims.append(h.NetStim())\n",
    "        apical_exc_netstims[-1].number = t_stop / 1000 * exc_freq\n",
    "        apical_exc_netstims[-1].interval = 1000 / exc_freq  # ms\n",
    "        apical_exc_netstims[-1].noise = 1  # make it Poisson like\n",
    "        apical_exc_netconns.append(h.NetCon(apical_exc_netstims[-1], apical_exc_syns[-1]))\n",
    "        apical_exc_netconns[-1].weight[0] = gsyn_exc\n",
    "apical_inh_syns = []\n",
    "apical_inh_netstims = []\n",
    "apical_inh_netconns = []\n",
    "for sec, apical_inh_nsyn in zip(L5PC.apical, apical_inh_nsyns):\n",
    "    for syn in range(apical_inh_nsyn):\n",
    "        syn_loc = rng_pos.repick()\n",
    "        apical_inh_syns.append(h.ProbGABAAB_EMS(sec(syn_loc)))\n",
    "        apical_inh_netstims.append(h.NetStim())\n",
    "        apical_inh_netstims[-1].number = t_stop / 1000 * inh_freq\n",
    "        apical_inh_netstims[-1].interval = 1000 / inh_freq  # ms\n",
    "        apical_inh_netstims[-1].noise = 1  # make it Poisson like\n",
    "        apical_inh_netconns.append(h.NetCon(apical_inh_netstims[-1], apical_inh_syns[-1]))\n",
    "        apical_inh_netconns[-1].weight[0] = gsyn_inh\n",
    "        \n",
    "# create basal synapses (and connect them to random number generators)\n",
    "basal_exc_syns = []\n",
    "basal_exc_netstims = []\n",
    "basal_exc_netconns = []\n",
    "for sec, basal_exc_nsyn in zip(L5PC.basal, basal_exc_nsyns):\n",
    "    for syn in range(basal_exc_nsyn):\n",
    "        syn_loc = rng_pos.repick()\n",
    "        basal_exc_syns.append(h.ProbAMPANMDA_EMS(sec(syn_loc)))\n",
    "        basal_exc_netstims.append(h.NetStim())\n",
    "        basal_exc_netstims[-1].number = t_stop / 1000 * exc_freq\n",
    "        basal_exc_netstims[-1].interval = 1000 / exc_freq  # ms\n",
    "        basal_exc_netstims[-1].noise = 1  # make it Poisson like\n",
    "        basal_exc_netconns.append(h.NetCon(basal_exc_netstims[-1], basal_exc_syns[-1]))\n",
    "        basal_exc_netconns[-1].weight[0] = gsyn_exc\n",
    "basal_inh_syns = []\n",
    "basal_inh_netstims = []\n",
    "basal_inh_netconns = []\n",
    "for sec, basal_inh_nsyn in zip(L5PC.basal, basal_inh_nsyns):\n",
    "    for syn in range(basal_inh_nsyn):\n",
    "        syn_loc = rng_pos.repick()\n",
    "        basal_inh_syns.append(h.ProbGABAAB_EMS(sec(syn_loc)))\n",
    "        basal_inh_netstims.append(h.NetStim())\n",
    "        basal_inh_netstims[-1].number = t_stop / 1000 * inh_freq\n",
    "        basal_inh_netstims[-1].interval = 1000 / inh_freq  # ms\n",
    "        basal_inh_netstims[-1].noise = 1  # make it Poisson like\n",
    "        basal_inh_netconns.append(h.NetCon(basal_inh_netstims[-1], basal_inh_syns[-1]))\n",
    "        basal_inh_netconns[-1].weight[0] = gsyn_inh"
   ]
  },
  {
   "cell_type": "markdown",
   "id": "35ba014a",
   "metadata": {},
   "source": [
    "### Run sim, plot results"
   ]
  },
  {
   "cell_type": "code",
   "execution_count": 6,
   "id": "18cdda43",
   "metadata": {},
   "outputs": [],
   "source": [
    "# recording\n",
    "t = h.Vector()\n",
    "t.record(h._ref_t)\n",
    "soma_v = h.Vector()\n",
    "soma_v.record(L5PC.soma[0](0.5)._ref_v)\n",
    "# run\n",
    "h.v_init = -80\n",
    "h.tstop = t_stop\n",
    "h.celsius = 37\n",
    "h.run();"
   ]
  },
  {
   "cell_type": "code",
   "execution_count": 7,
   "id": "8bc5086b",
   "metadata": {},
   "outputs": [
    {
     "data": {
      "image/png": "[encoded data removed]",
      "text/plain": [
       "<Figure size 800x500 with 1 Axes>"
      ]
     },
     "metadata": {},
     "output_type": "display_data"
    }
   ],
   "source": [
    "# plot results\n",
    "fig = plt.figure(figsize=(8,5))\n",
    "ax = fig.add_subplot(1, 1, 1)\n",
    "ax.plot(t, soma_v)\n",
    "ax.set_xlabel(\"Time (ms)\");\n",
    "ax.set_ylabel(\"Voltage (mV)\");"
   ]
  },
  {
   "cell_type": "markdown",
   "id": "699f592c",
   "metadata": {},
   "source": [
    "### "
   ]
  }
 ],
 "metadata": {
  "kernelspec": {
   "display_name": "Python 3 (ipykernel)",
   "language": "python",
   "name": "python3"
  },
  "language_info": {
   "codemirror_mode": {
    "name": "ipython",
    "version": 3
   },
   "file_extension": ".py",
   "mimetype": "text/x-python",
   "name": "python",
   "nbconvert_exporter": "python",
   "pygments_lexer": "ipython3",
   "version": "3.11.5"
  }
 },
 "nbformat": 4,
 "nbformat_minor": 5
}
